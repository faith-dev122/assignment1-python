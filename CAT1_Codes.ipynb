{
  "nbformat": 4,
  "nbformat_minor": 0,
  "metadata": {
    "colab": {
      "provenance": [],
      "authorship_tag": "ABX9TyO6MihBCMOiw3bjPpiQzHOO",
      "include_colab_link": true
    },
    "kernelspec": {
      "name": "python3",
      "display_name": "Python 3"
    },
    "language_info": {
      "name": "python"
    }
  },
  "cells": [
    {
      "cell_type": "markdown",
      "metadata": {
        "id": "view-in-github",
        "colab_type": "text"
      },
      "source": [
        "<a href=\"https://colab.research.google.com/github/faith-dev122/assignment1-python/blob/main/CAT1_Codes.ipynb\" target=\"_parent\"><img src=\"https://colab.research.google.com/assets/colab-badge.svg\" alt=\"Open In Colab\"/></a>"
      ]
    },
    {
      "cell_type": "code",
      "execution_count": 1,
      "metadata": {
        "colab": {
          "base_uri": "https://localhost:8080/"
        },
        "id": "vGIEiZodohD_",
        "outputId": "19a89517-bf28-4eea-f3bf-e8981f2422e6"
      },
      "outputs": [
        {
          "output_type": "stream",
          "name": "stdout",
          "text": [
            "Enter base: 10\n",
            "Enter height: 12\n",
            "Area of the triangle is: 60.0\n"
          ]
        }
      ],
      "source": [
        "#Area of a triangle\n",
        "base = float(input(\"Enter base: \"))\n",
        "height = float(input(\"Enter height: \"))\n",
        "area = 0.5 * base * height\n",
        "print(\"Area of the triangle is:\", area)\n"
      ]
    },
    {
      "cell_type": "code",
      "source": [
        "#List of prime numbers upto 50\n",
        "for num in range(2, 51):\n",
        "    for i in range(2, num):\n",
        "        if (num % i) == 0:\n",
        "            break\n",
        "    else:\n",
        "        print(num, end=\" \")\n"
      ],
      "metadata": {
        "colab": {
          "base_uri": "https://localhost:8080/"
        },
        "id": "iZQEuBW_pNm2",
        "outputId": "0dbf827d-f0b1-488a-c0e7-9b566a015138"
      },
      "execution_count": 2,
      "outputs": [
        {
          "output_type": "stream",
          "name": "stdout",
          "text": [
            "2 3 5 7 11 13 17 19 23 29 31 37 41 43 47 "
          ]
        }
      ]
    },
    {
      "cell_type": "code",
      "source": [
        "#Solving a system of linear equations ax+by=c and dx+ey=f\n",
        "import numpy as np\n",
        "\n",
        "a = np.array([[2, 3], [4, 1]])\n",
        "b = np.array([8, 10])\n",
        "solution = np.linalg.solve(a, b)\n",
        "print(\"x =\", solution[0], \", y =\", solution[1])\n"
      ],
      "metadata": {
        "colab": {
          "base_uri": "https://localhost:8080/"
        },
        "id": "lyGlKTn5paME",
        "outputId": "4180ebb6-d62e-43ed-9a59-a035aa5443ca"
      },
      "execution_count": 3,
      "outputs": [
        {
          "output_type": "stream",
          "name": "stdout",
          "text": [
            "x = 2.2 , y = 1.2\n"
          ]
        }
      ]
    },
    {
      "cell_type": "code",
      "source": [
        "#Program to create a histogram of the dataset 10,15,12,18,20,14,16,19\n",
        "import matplotlib.pyplot as plt\n",
        "\n",
        "data = [10, 15, 12, 18, 20, 14, 16, 19]\n",
        "plt.hist(data, bins=5)\n",
        "plt.title(\"Histogram\")\n",
        "plt.xlabel(\"Value\")\n",
        "plt.ylabel(\"Frequency\")\n",
        "plt.show()\n"
      ],
      "metadata": {
        "colab": {
          "base_uri": "https://localhost:8080/",
          "height": 472
        },
        "id": "KcUVogtgpljQ",
        "outputId": "232a1652-a97f-4bd0-c095-327523743bb5"
      },
      "execution_count": 4,
      "outputs": [
        {
          "output_type": "display_data",
          "data": {
            "text/plain": [
              "<Figure size 640x480 with 1 Axes>"
            ],
            "image/png": "[encoded data removed]"
          },
          "metadata": {}
        }
      ]
    },
    {
      "cell_type": "code",
      "source": [
        "#program to create the geometric sequence with a ratio of 2 for 7 terms\n",
        "a = 2\n",
        "r = 2\n",
        "for i in range(7):\n",
        "    print(a * (r ** i), end=\" \")\n"
      ],
      "metadata": {
        "colab": {
          "base_uri": "https://localhost:8080/"
        },
        "id": "y8YxwE41prR9",
        "outputId": "bd72a7a9-7385-472a-c18b-d81bfd973ac7"
      },
      "execution_count": 5,
      "outputs": [
        {
          "output_type": "stream",
          "name": "stdout",
          "text": [
            "2 4 8 16 32 64 128 "
          ]
        }
      ]
    },
    {
      "cell_type": "code",
      "source": [
        "#program to compute the integral of f(x)=sin(x) from x=0 to x=pi\n",
        "from scipy.integrate import quad\n",
        "import math\n",
        "\n",
        "result, error = quad(math.sin, 0, math.pi)\n",
        "print(\"Integral of sin(x) from 0 to pi:\", result)"
      ],
      "metadata": {
        "colab": {
          "base_uri": "https://localhost:8080/"
        },
        "id": "3e2MyTlGp8BJ",
        "outputId": "aa907009-c32b-489d-d1c5-c30ab233000f"
      },
      "execution_count": 6,
      "outputs": [
        {
          "output_type": "stream",
          "name": "stdout",
          "text": [
            "Integral of sin(x) from 0 to pi: 2.0\n"
          ]
        }
      ]
    }
  ]
}